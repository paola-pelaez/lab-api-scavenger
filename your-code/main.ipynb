{
 "cells": [
  {
   "cell_type": "markdown",
   "metadata": {},
   "source": [
    "CHALLENGE 1"
   ]
  },
  {
   "cell_type": "code",
   "execution_count": 3,
   "metadata": {},
   "outputs": [],
   "source": [
    "import pandas as pd\n",
    "import requests\n",
    "import json"
   ]
  },
  {
   "cell_type": "code",
   "execution_count": 11,
   "metadata": {},
   "outputs": [],
   "source": [
    "import getpass\n",
    "#Inputs\n",
    "\n",
    "username = 'paola-pelaez'\n",
    "token = ''"
   ]
  },
  {
   "cell_type": "code",
   "execution_count": 60,
   "metadata": {},
   "outputs": [],
   "source": [
    "repos_url ='https://api.github.com/repos/ironhack-datalabs/datalis0819/forks'\n",
    "\n",
    "#create a re-usable session object \n",
    "gh_session = requests.Session()\n",
    "gh_session.auth = (username, token)\n",
    "\n",
    "repos = json.loads(gh_session.get(repos_url).text)\n",
    "#1. Obtain the full list of forks created from the main lab repo via Github API.\n",
    "len(repos[0])\n",
    "\n",
    "languages = []\n",
    "for repo in repos:\n",
    "    languages.append(repo['language'])"
   ]
  },
  {
   "cell_type": "code",
   "execution_count": 61,
   "metadata": {},
   "outputs": [
    {
     "name": "stdout",
     "output_type": "stream",
     "text": [
      "{'Jupyter Notebook', None}\n"
     ]
    }
   ],
   "source": [
    "print(set(languages))\n",
    "\n",
    "#Languages : {'Jupyter Notebook', None}"
   ]
  },
  {
   "cell_type": "markdown",
   "metadata": {},
   "source": [
    "Challenge 2: Count Commits"
   ]
  },
  {
   "cell_type": "markdown",
   "metadata": {},
   "source": [
    "Assuming the main lab repo is ta-data-lis/lab-mysql-first-queries, you will count how many commits were made in the past 2 weeks:\n",
    "\n",
    "    Obtain all the commits made in the past 2 weeks via API, which is a JSON array that contains multiple commit objects.\n",
    "\n",
    "    Count how many commit objects are contained in the array."
   ]
  },
  {
   "cell_type": "code",
   "execution_count": 64,
   "metadata": {},
   "outputs": [
    {
     "name": "stdout",
     "output_type": "stream",
     "text": [
      "0\n"
     ]
    }
   ],
   "source": [
    "#url passing the since parameter of the last 15 days (since:2020-03-11T00:01:01Z')\n",
    "url_2 = 'https://api.github.com/repos/ta-data-lis/lab-mysql-first-queries/commits?since=2020-03-11T00:01:01Z'\n",
    "\n",
    "repos2 = json.loads(gh_session.get(url_2).text)\n",
    "\n",
    "print(len(repos2))\n",
    "#0 commits in the last 15 days"
   ]
  },
  {
   "cell_type": "code",
   "execution_count": null,
   "metadata": {},
   "outputs": [],
   "source": []
  }
 ],
 "metadata": {
  "kernelspec": {
   "display_name": "Python 3",
   "language": "python",
   "name": "python3"
  },
  "language_info": {
   "codemirror_mode": {
    "name": "ipython",
    "version": 3
   },
   "file_extension": ".py",
   "mimetype": "text/x-python",
   "name": "python",
   "nbconvert_exporter": "python",
   "pygments_lexer": "ipython3",
   "version": "3.7.4"
  }
 },
 "nbformat": 4,
 "nbformat_minor": 2
}
